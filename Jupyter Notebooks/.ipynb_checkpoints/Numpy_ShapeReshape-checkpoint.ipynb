{
 "cells": [
  {
   "cell_type": "code",
   "execution_count": 1,
   "id": "082a81bc",
   "metadata": {},
   "outputs": [],
   "source": [
    "import numpy as np"
   ]
  },
  {
   "cell_type": "markdown",
   "id": "7e8c918b",
   "metadata": {},
   "source": [
    "## Shape y reshape"
   ]
  },
  {
   "cell_type": "code",
   "execution_count": 4,
   "id": "f8ebde8e",
   "metadata": {},
   "outputs": [],
   "source": [
    "arr = np.random.randint(1,10,(3,2)) #Generamos un array de numeros aleatorios"
   ]
  },
  {
   "cell_type": "code",
   "execution_count": 5,
   "id": "29ea1097",
   "metadata": {},
   "outputs": [
    {
     "data": {
      "text/plain": [
       "(3, 2)"
      ]
     },
     "execution_count": 5,
     "metadata": {},
     "output_type": "execute_result"
    }
   ],
   "source": [
    "arr.shape #Nos muestra las filas y columnas que tenemos"
   ]
  },
  {
   "cell_type": "code",
   "execution_count": 7,
   "id": "c8bd1685",
   "metadata": {},
   "outputs": [
    {
     "data": {
      "text/plain": [
       "array([[9, 4],\n",
       "       [6, 8],\n",
       "       [6, 1]])"
      ]
     },
     "execution_count": 7,
     "metadata": {},
     "output_type": "execute_result"
    }
   ],
   "source": [
    "arr"
   ]
  },
  {
   "cell_type": "code",
   "execution_count": 8,
   "id": "39108b2e",
   "metadata": {},
   "outputs": [
    {
     "data": {
      "text/plain": [
       "array([[9, 4, 6, 8, 6, 1]])"
      ]
     },
     "execution_count": 8,
     "metadata": {},
     "output_type": "execute_result"
    }
   ],
   "source": [
    "arr.reshape(1,6) #Modificamos la forma del array"
   ]
  },
  {
   "cell_type": "code",
   "execution_count": 9,
   "id": "c717b8c0",
   "metadata": {},
   "outputs": [
    {
     "data": {
      "text/plain": [
       "array([[9, 4, 6],\n",
       "       [8, 6, 1]])"
      ]
     },
     "execution_count": 9,
     "metadata": {},
     "output_type": "execute_result"
    }
   ],
   "source": [
    "arr.reshape(2,3)"
   ]
  },
  {
   "cell_type": "code",
   "execution_count": 10,
   "id": "8aece76d",
   "metadata": {},
   "outputs": [
    {
     "data": {
      "text/plain": [
       "array([[9, 4, 6, 8, 6, 1]])"
      ]
     },
     "execution_count": 10,
     "metadata": {},
     "output_type": "execute_result"
    }
   ],
   "source": [
    "np.reshape(arr,(1,6))"
   ]
  },
  {
   "cell_type": "code",
   "execution_count": 11,
   "id": "2936c701",
   "metadata": {},
   "outputs": [
    {
     "data": {
      "text/plain": [
       "array([[9, 4],\n",
       "       [6, 8],\n",
       "       [6, 1]])"
      ]
     },
     "execution_count": 11,
     "metadata": {},
     "output_type": "execute_result"
    }
   ],
   "source": [
    "arr"
   ]
  },
  {
   "cell_type": "code",
   "execution_count": 12,
   "id": "b105a593",
   "metadata": {},
   "outputs": [
    {
     "data": {
      "text/plain": [
       "array([[9, 4, 6],\n",
       "       [8, 6, 1]])"
      ]
     },
     "execution_count": 12,
     "metadata": {},
     "output_type": "execute_result"
    }
   ],
   "source": [
    "np.reshape(arr,(2,3),\"C\") #Cambiamos la forma mediante el lenguaje C (Por filas)"
   ]
  },
  {
   "cell_type": "code",
   "execution_count": 13,
   "id": "1b04ee86",
   "metadata": {},
   "outputs": [
    {
     "data": {
      "text/plain": [
       "array([[9, 6, 8],\n",
       "       [6, 4, 1]])"
      ]
     },
     "execution_count": 13,
     "metadata": {},
     "output_type": "execute_result"
    }
   ],
   "source": [
    "np.reshape(arr,(2,3),\"F\") #Cambiamos la forma mediante el lenguaje Fortran (Por columnas)"
   ]
  },
  {
   "cell_type": "code",
   "execution_count": 14,
   "id": "64486855",
   "metadata": {},
   "outputs": [
    {
     "data": {
      "text/plain": [
       "array([[9, 4, 6],\n",
       "       [8, 6, 1]])"
      ]
     },
     "execution_count": 14,
     "metadata": {},
     "output_type": "execute_result"
    }
   ],
   "source": [
    "np.reshape(arr,(2,3),\"A\") #Cambiamos la forma mediante a como mejor este optimizado el almacenamiento en mi sistema"
   ]
  },
  {
   "cell_type": "markdown",
   "id": "6c883408",
   "metadata": {},
   "source": [
    "# Se pueden realizar estas funciones siempre y cuando se respeten las dimensiones"
   ]
  },
  {
   "cell_type": "code",
   "execution_count": null,
   "id": "3e2384dc",
   "metadata": {},
   "outputs": [],
   "source": []
  }
 ],
 "metadata": {
  "kernelspec": {
   "display_name": "Python 3",
   "language": "python",
   "name": "python3"
  },
  "language_info": {
   "codemirror_mode": {
    "name": "ipython",
    "version": 3
   },
   "file_extension": ".py",
   "mimetype": "text/x-python",
   "name": "python",
   "nbconvert_exporter": "python",
   "pygments_lexer": "ipython3",
   "version": "3.8.8"
  }
 },
 "nbformat": 4,
 "nbformat_minor": 5
}
