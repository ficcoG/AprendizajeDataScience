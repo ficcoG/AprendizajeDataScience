{
 "cells": [
  {
   "cell_type": "code",
   "execution_count": 1,
   "id": "4351ba1b",
   "metadata": {},
   "outputs": [],
   "source": [
    "import pandas as pd"
   ]
  },
  {
   "cell_type": "markdown",
   "id": "36074b24",
   "metadata": {},
   "source": [
    "# Series"
   ]
  },
  {
   "cell_type": "code",
   "execution_count": 4,
   "id": "a4d6048e",
   "metadata": {},
   "outputs": [
    {
     "data": {
      "text/plain": [
       "1      Navas\n",
       "7     Mbapee\n",
       "10    Neymar\n",
       "30     Messi\n",
       "dtype: object"
      ]
     },
     "execution_count": 4,
     "metadata": {},
     "output_type": "execute_result"
    }
   ],
   "source": [
    "psg = pd.Series([\"Navas\",\"Mbapee\",\"Neymar\",\"Messi\"],index =[1,7,10,30]) #Serie indexada\n",
    "psg"
   ]
  },
  {
   "cell_type": "code",
   "execution_count": 5,
   "id": "e573817d",
   "metadata": {},
   "outputs": [
    {
     "data": {
      "text/plain": [
       "0     Navas\n",
       "1    Mbapee\n",
       "2    Neymar\n",
       "3     Messi\n",
       "dtype: object"
      ]
     },
     "execution_count": 5,
     "metadata": {},
     "output_type": "execute_result"
    }
   ],
   "source": [
    "pd.Series([\"Navas\",\"Mbapee\",\"Neymar\",\"Messi\"]) #Serie sin colocar indice (Lo pone automaticamente)"
   ]
  },
  {
   "cell_type": "code",
   "execution_count": 6,
   "id": "85385015",
   "metadata": {},
   "outputs": [
    {
     "data": {
      "text/plain": [
       "1      Navas\n",
       "7     Mbappe\n",
       "10    Neymar\n",
       "30     Messi\n",
       "dtype: object"
      ]
     },
     "execution_count": 6,
     "metadata": {},
     "output_type": "execute_result"
    }
   ],
   "source": [
    "dicc = {1:\"Navas\",7:\"Mbappe\",10:\"Neymar\",30:\"Messi\"} #Generamos la serie mediante un diccionario\n",
    "pd.Series(dicc)"
   ]
  },
  {
   "cell_type": "code",
   "execution_count": 7,
   "id": "59abf91c",
   "metadata": {},
   "outputs": [
    {
     "data": {
      "text/plain": [
       "'Messi'"
      ]
     },
     "execution_count": 7,
     "metadata": {},
     "output_type": "execute_result"
    }
   ],
   "source": [
    "psg[30]"
   ]
  },
  {
   "cell_type": "code",
   "execution_count": 10,
   "id": "794e3fd7",
   "metadata": {},
   "outputs": [
    {
     "data": {
      "text/plain": [
       "{'Jugador': ['Navas', 'Mbappe', 'Neymar', 'Messi'],\n",
       " 'Altura': [188.0, 175.0, 180.0, 170.0],\n",
       " 'Goles': [2, 100, 300, 600]}"
      ]
     },
     "execution_count": 10,
     "metadata": {},
     "output_type": "execute_result"
    }
   ],
   "source": [
    "dicc = {\"Jugador\":[\"Navas\",\"Mbappe\",\"Neymar\",\"Messi\"],\"Altura\":[188.0,175.0,180.0,170.0],\"Goles\":[2,100,300,600]}\n",
    "dicc"
   ]
  },
  {
   "cell_type": "markdown",
   "id": "e95a186d",
   "metadata": {},
   "source": [
    "# DataFrames"
   ]
  },
  {
   "cell_type": "code",
   "execution_count": 11,
   "id": "96f08ac7",
   "metadata": {},
   "outputs": [
    {
     "data": {
      "text/html": [
       "<div>\n",
       "<style scoped>\n",
       "    .dataframe tbody tr th:only-of-type {\n",
       "        vertical-align: middle;\n",
       "    }\n",
       "\n",
       "    .dataframe tbody tr th {\n",
       "        vertical-align: top;\n",
       "    }\n",
       "\n",
       "    .dataframe thead th {\n",
       "        text-align: right;\n",
       "    }\n",
       "</style>\n",
       "<table border=\"1\" class=\"dataframe\">\n",
       "  <thead>\n",
       "    <tr style=\"text-align: right;\">\n",
       "      <th></th>\n",
       "      <th>Jugador</th>\n",
       "      <th>Altura</th>\n",
       "      <th>Goles</th>\n",
       "    </tr>\n",
       "  </thead>\n",
       "  <tbody>\n",
       "    <tr>\n",
       "      <th>1</th>\n",
       "      <td>Navas</td>\n",
       "      <td>188.0</td>\n",
       "      <td>2</td>\n",
       "    </tr>\n",
       "    <tr>\n",
       "      <th>7</th>\n",
       "      <td>Mbappe</td>\n",
       "      <td>175.0</td>\n",
       "      <td>100</td>\n",
       "    </tr>\n",
       "    <tr>\n",
       "      <th>10</th>\n",
       "      <td>Neymar</td>\n",
       "      <td>180.0</td>\n",
       "      <td>300</td>\n",
       "    </tr>\n",
       "    <tr>\n",
       "      <th>30</th>\n",
       "      <td>Messi</td>\n",
       "      <td>170.0</td>\n",
       "      <td>600</td>\n",
       "    </tr>\n",
       "  </tbody>\n",
       "</table>\n",
       "</div>"
      ],
      "text/plain": [
       "   Jugador  Altura  Goles\n",
       "1    Navas   188.0      2\n",
       "7   Mbappe   175.0    100\n",
       "10  Neymar   180.0    300\n",
       "30   Messi   170.0    600"
      ]
     },
     "execution_count": 11,
     "metadata": {},
     "output_type": "execute_result"
    }
   ],
   "source": [
    "pd.DataFrame(dicc,index = [1,7,10,30])"
   ]
  },
  {
   "cell_type": "code",
   "execution_count": 13,
   "id": "b3d1d7c9",
   "metadata": {},
   "outputs": [],
   "source": [
    "df_psg = pd.DataFrame(dicc)"
   ]
  },
  {
   "cell_type": "code",
   "execution_count": 15,
   "id": "2ea5ad06",
   "metadata": {},
   "outputs": [
    {
     "data": {
      "text/plain": [
       "Index(['Jugador', 'Altura', 'Goles'], dtype='object')"
      ]
     },
     "execution_count": 15,
     "metadata": {},
     "output_type": "execute_result"
    }
   ],
   "source": [
    "df_psg.columns"
   ]
  },
  {
   "cell_type": "code",
   "execution_count": 17,
   "id": "84978a8c",
   "metadata": {},
   "outputs": [
    {
     "data": {
      "text/plain": [
       "RangeIndex(start=0, stop=4, step=1)"
      ]
     },
     "execution_count": 17,
     "metadata": {},
     "output_type": "execute_result"
    }
   ],
   "source": [
    "df_psg.index"
   ]
  },
  {
   "cell_type": "code",
   "execution_count": 18,
   "id": "8849990f",
   "metadata": {},
   "outputs": [
    {
     "data": {
      "text/html": [
       "<div>\n",
       "<style scoped>\n",
       "    .dataframe tbody tr th:only-of-type {\n",
       "        vertical-align: middle;\n",
       "    }\n",
       "\n",
       "    .dataframe tbody tr th {\n",
       "        vertical-align: top;\n",
       "    }\n",
       "\n",
       "    .dataframe thead th {\n",
       "        text-align: right;\n",
       "    }\n",
       "</style>\n",
       "<table border=\"1\" class=\"dataframe\">\n",
       "  <thead>\n",
       "    <tr style=\"text-align: right;\">\n",
       "      <th></th>\n",
       "      <th>Jugador</th>\n",
       "      <th>Altura</th>\n",
       "      <th>Goles</th>\n",
       "    </tr>\n",
       "  </thead>\n",
       "  <tbody>\n",
       "    <tr>\n",
       "      <th>0</th>\n",
       "      <td>Navas</td>\n",
       "      <td>188.0</td>\n",
       "      <td>2</td>\n",
       "    </tr>\n",
       "    <tr>\n",
       "      <th>1</th>\n",
       "      <td>Mbappe</td>\n",
       "      <td>175.0</td>\n",
       "      <td>100</td>\n",
       "    </tr>\n",
       "    <tr>\n",
       "      <th>2</th>\n",
       "      <td>Neymar</td>\n",
       "      <td>180.0</td>\n",
       "      <td>300</td>\n",
       "    </tr>\n",
       "    <tr>\n",
       "      <th>3</th>\n",
       "      <td>Messi</td>\n",
       "      <td>170.0</td>\n",
       "      <td>600</td>\n",
       "    </tr>\n",
       "  </tbody>\n",
       "</table>\n",
       "</div>"
      ],
      "text/plain": [
       "  Jugador  Altura  Goles\n",
       "0   Navas   188.0      2\n",
       "1  Mbappe   175.0    100\n",
       "2  Neymar   180.0    300\n",
       "3   Messi   170.0    600"
      ]
     },
     "execution_count": 18,
     "metadata": {},
     "output_type": "execute_result"
    }
   ],
   "source": [
    "df_psg"
   ]
  },
  {
   "cell_type": "code",
   "execution_count": null,
   "id": "0e465343",
   "metadata": {},
   "outputs": [],
   "source": []
  }
 ],
 "metadata": {
  "kernelspec": {
   "display_name": "Python 3",
   "language": "python",
   "name": "python3"
  },
  "language_info": {
   "codemirror_mode": {
    "name": "ipython",
    "version": 3
   },
   "file_extension": ".py",
   "mimetype": "text/x-python",
   "name": "python",
   "nbconvert_exporter": "python",
   "pygments_lexer": "ipython3",
   "version": "3.8.8"
  }
 },
 "nbformat": 4,
 "nbformat_minor": 5
}
