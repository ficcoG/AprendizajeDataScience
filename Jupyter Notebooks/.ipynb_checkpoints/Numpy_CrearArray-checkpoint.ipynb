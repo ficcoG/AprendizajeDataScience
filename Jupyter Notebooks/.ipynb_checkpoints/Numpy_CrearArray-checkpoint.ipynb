{
 "cells": [
  {
   "cell_type": "code",
   "execution_count": 1,
   "id": "cda23585",
   "metadata": {},
   "outputs": [],
   "source": [
    "import numpy as np"
   ]
  },
  {
   "cell_type": "markdown",
   "id": "f4714e68",
   "metadata": {},
   "source": [
    "### Creamos un array mediante la coleccion range"
   ]
  },
  {
   "cell_type": "code",
   "execution_count": 2,
   "id": "fb8983d3",
   "metadata": {},
   "outputs": [
    {
     "data": {
      "text/plain": [
       "array([0, 1, 2, 3, 4, 5, 6, 7, 8, 9])"
      ]
     },
     "execution_count": 2,
     "metadata": {},
     "output_type": "execute_result"
    }
   ],
   "source": [
    "np.arange(0,10) "
   ]
  },
  {
   "cell_type": "code",
   "execution_count": 3,
   "id": "7da31bc1",
   "metadata": {},
   "outputs": [
    {
     "data": {
      "text/plain": [
       "array([0, 2, 4, 6, 8])"
      ]
     },
     "execution_count": 3,
     "metadata": {},
     "output_type": "execute_result"
    }
   ],
   "source": [
    "np.arange(0,10,2) #Se le da un step de 2 (Start,Stop,Step)"
   ]
  },
  {
   "cell_type": "markdown",
   "id": "45639037",
   "metadata": {},
   "source": [
    "### Creamos un array mediante ceros y unos"
   ]
  },
  {
   "cell_type": "code",
   "execution_count": 4,
   "id": "c0f93772",
   "metadata": {},
   "outputs": [
    {
     "data": {
      "text/plain": [
       "array([0., 0., 0.])"
      ]
     },
     "execution_count": 4,
     "metadata": {},
     "output_type": "execute_result"
    }
   ],
   "source": [
    "np.zeros(3)"
   ]
  },
  {
   "cell_type": "code",
   "execution_count": 5,
   "id": "d3db5444",
   "metadata": {},
   "outputs": [
    {
     "data": {
      "text/plain": [
       "array([[0., 0., 0., 0., 0., 0., 0., 0., 0., 0.],\n",
       "       [0., 0., 0., 0., 0., 0., 0., 0., 0., 0.],\n",
       "       [0., 0., 0., 0., 0., 0., 0., 0., 0., 0.],\n",
       "       [0., 0., 0., 0., 0., 0., 0., 0., 0., 0.],\n",
       "       [0., 0., 0., 0., 0., 0., 0., 0., 0., 0.],\n",
       "       [0., 0., 0., 0., 0., 0., 0., 0., 0., 0.],\n",
       "       [0., 0., 0., 0., 0., 0., 0., 0., 0., 0.],\n",
       "       [0., 0., 0., 0., 0., 0., 0., 0., 0., 0.],\n",
       "       [0., 0., 0., 0., 0., 0., 0., 0., 0., 0.],\n",
       "       [0., 0., 0., 0., 0., 0., 0., 0., 0., 0.]])"
      ]
     },
     "execution_count": 5,
     "metadata": {},
     "output_type": "execute_result"
    }
   ],
   "source": [
    "np.zeros((10,10)) #Muy util para definir estructuras previamente"
   ]
  },
  {
   "cell_type": "code",
   "execution_count": 6,
   "id": "5530f7fc",
   "metadata": {},
   "outputs": [
    {
     "data": {
      "text/plain": [
       "array([[1., 1., 1., 1., 1.],\n",
       "       [1., 1., 1., 1., 1.],\n",
       "       [1., 1., 1., 1., 1.],\n",
       "       [1., 1., 1., 1., 1.],\n",
       "       [1., 1., 1., 1., 1.],\n",
       "       [1., 1., 1., 1., 1.],\n",
       "       [1., 1., 1., 1., 1.],\n",
       "       [1., 1., 1., 1., 1.],\n",
       "       [1., 1., 1., 1., 1.],\n",
       "       [1., 1., 1., 1., 1.]])"
      ]
     },
     "execution_count": 6,
     "metadata": {},
     "output_type": "execute_result"
    }
   ],
   "source": [
    "np.ones((10,5))"
   ]
  },
  {
   "cell_type": "markdown",
   "id": "3042ef3c",
   "metadata": {},
   "source": [
    "### Funcion linspace"
   ]
  },
  {
   "cell_type": "code",
   "execution_count": 9,
   "id": "c01f407b",
   "metadata": {},
   "outputs": [
    {
     "data": {
      "text/plain": [
       "array([ 0.        ,  1.11111111,  2.22222222,  3.33333333,  4.44444444,\n",
       "        5.55555556,  6.66666667,  7.77777778,  8.88888889, 10.        ])"
      ]
     },
     "execution_count": 9,
     "metadata": {},
     "output_type": "execute_result"
    }
   ],
   "source": [
    "np.linspace(0,10,10) #(Start,Stop, cuantos datos generar)"
   ]
  },
  {
   "cell_type": "markdown",
   "id": "aa32eaaf",
   "metadata": {},
   "source": [
    "### Funcion eye"
   ]
  },
  {
   "cell_type": "code",
   "execution_count": 10,
   "id": "99725f2e",
   "metadata": {},
   "outputs": [
    {
     "data": {
      "text/plain": [
       "array([[1., 0., 0., 0.],\n",
       "       [0., 1., 0., 0.],\n",
       "       [0., 0., 1., 0.],\n",
       "       [0., 0., 0., 1.]])"
      ]
     },
     "execution_count": 10,
     "metadata": {},
     "output_type": "execute_result"
    }
   ],
   "source": [
    "np.eye(4) #Util para la algebra lineal"
   ]
  },
  {
   "cell_type": "markdown",
   "id": "72d1403d",
   "metadata": {},
   "source": [
    "### Random"
   ]
  },
  {
   "cell_type": "code",
   "execution_count": 11,
   "id": "790d5dc3",
   "metadata": {},
   "outputs": [
    {
     "data": {
      "text/plain": [
       "0.9322647245619209"
      ]
     },
     "execution_count": 11,
     "metadata": {},
     "output_type": "execute_result"
    }
   ],
   "source": [
    "np.random.rand() #Genera n valor aleatorio entre 0 y 1"
   ]
  },
  {
   "cell_type": "code",
   "execution_count": 13,
   "id": "cf23b8ba",
   "metadata": {},
   "outputs": [
    {
     "data": {
      "text/plain": [
       "array([0.79888219, 0.15672381, 0.83726806, 0.43051238])"
      ]
     },
     "execution_count": 13,
     "metadata": {},
     "output_type": "execute_result"
    }
   ],
   "source": [
    "np.random.rand(4) #Genera un array con 4 numeros aleatroios entre 0 y 1"
   ]
  },
  {
   "cell_type": "code",
   "execution_count": 14,
   "id": "b7756833",
   "metadata": {},
   "outputs": [
    {
     "data": {
      "text/plain": [
       "array([[0.01020217, 0.28703787, 0.46295294, 0.90104968],\n",
       "       [0.60494258, 0.03372331, 0.7395761 , 0.62767132],\n",
       "       [0.46616337, 0.20331331, 0.84393694, 0.01541648],\n",
       "       [0.49726714, 0.5710338 , 0.83318375, 0.58860914]])"
      ]
     },
     "execution_count": 14,
     "metadata": {},
     "output_type": "execute_result"
    }
   ],
   "source": [
    "np.random.rand(4,4) #Genera una matriz con numeros aleatorios entre 0 y 1"
   ]
  },
  {
   "cell_type": "code",
   "execution_count": 15,
   "id": "40fc539c",
   "metadata": {},
   "outputs": [
    {
     "data": {
      "text/plain": [
       "13"
      ]
     },
     "execution_count": 15,
     "metadata": {},
     "output_type": "execute_result"
    }
   ],
   "source": [
    "np.random.randint(1,15) #Genera un numero aleatorio entre los parametros elegidos"
   ]
  },
  {
   "cell_type": "code",
   "execution_count": 17,
   "id": "6bc50cf5",
   "metadata": {},
   "outputs": [
    {
     "data": {
      "text/plain": [
       "array([[ 4,  9,  4,  5,  4, 13,  3,  9,  5,  2],\n",
       "       [ 3,  8,  8,  4, 13,  2, 12, 10,  3,  3],\n",
       "       [14,  5,  5, 10,  6,  4, 14,  9,  4,  7],\n",
       "       [13,  5, 12, 11, 10, 10,  6, 11,  6, 13],\n",
       "       [14, 12,  1, 13,  6, 10, 12, 12, 13, 12],\n",
       "       [10,  1,  8,  2,  4,  8,  4,  3,  2, 14],\n",
       "       [ 3,  3,  4,  2,  3,  6, 12, 12,  7, 10],\n",
       "       [ 9, 13,  8,  9, 14,  7, 14,  8,  1, 12],\n",
       "       [ 5,  9, 11,  8,  9,  7,  9, 14, 12, 10],\n",
       "       [10,  3,  1, 11,  7,  2,  7,  8,  1,  9]])"
      ]
     },
     "execution_count": 17,
     "metadata": {},
     "output_type": "execute_result"
    }
   ],
   "source": [
    "np.random.randint(1,15,(10,10)) #Genera una matriz con los valores aleatorios entre 1 y 15"
   ]
  },
  {
   "cell_type": "code",
   "execution_count": null,
   "id": "0b080d75",
   "metadata": {},
   "outputs": [],
   "source": []
  }
 ],
 "metadata": {
  "kernelspec": {
   "display_name": "Python 3",
   "language": "python",
   "name": "python3"
  },
  "language_info": {
   "codemirror_mode": {
    "name": "ipython",
    "version": 3
   },
   "file_extension": ".py",
   "mimetype": "text/x-python",
   "name": "python",
   "nbconvert_exporter": "python",
   "pygments_lexer": "ipython3",
   "version": "3.8.8"
  }
 },
 "nbformat": 4,
 "nbformat_minor": 5
}
