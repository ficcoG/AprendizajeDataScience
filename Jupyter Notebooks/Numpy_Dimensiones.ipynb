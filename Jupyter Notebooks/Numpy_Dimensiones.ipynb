{
 "cells": [
  {
   "cell_type": "code",
   "execution_count": 2,
   "id": "3d3ba882",
   "metadata": {},
   "outputs": [],
   "source": [
    "import numpy as np"
   ]
  },
  {
   "cell_type": "markdown",
   "id": "36fdf151",
   "metadata": {},
   "source": [
    "## Dimensiones de los datos"
   ]
  },
  {
   "cell_type": "markdown",
   "id": "d2eeffd3",
   "metadata": {},
   "source": [
    "### Escalar"
   ]
  },
  {
   "cell_type": "code",
   "execution_count": 5,
   "id": "81181190",
   "metadata": {},
   "outputs": [
    {
     "name": "stdout",
     "output_type": "stream",
     "text": [
      "2\n",
      "0\n"
     ]
    }
   ],
   "source": [
    "escalar = np.array(2)\n",
    "print(escalar) \n",
    "print(escalar.ndim) #Los escalares poseen 0 dimensiones"
   ]
  },
  {
   "cell_type": "markdown",
   "id": "cae392ad",
   "metadata": {},
   "source": [
    "### Vector"
   ]
  },
  {
   "cell_type": "code",
   "execution_count": 6,
   "id": "8ecdda13",
   "metadata": {},
   "outputs": [
    {
     "name": "stdout",
     "output_type": "stream",
     "text": [
      "[2 3]\n",
      "1\n"
     ]
    }
   ],
   "source": [
    "vector = np.array([2,3])\n",
    "print(vector)\n",
    "print(vector.ndim) #Los vectores poseen dos dimensiones , listas"
   ]
  },
  {
   "cell_type": "markdown",
   "id": "4fc24321",
   "metadata": {},
   "source": [
    "### Matriz"
   ]
  },
  {
   "cell_type": "code",
   "execution_count": 10,
   "id": "dcabab62",
   "metadata": {},
   "outputs": [
    {
     "name": "stdout",
     "output_type": "stream",
     "text": [
      "[[1 2]\n",
      " [3 4]]\n",
      "2\n"
     ]
    }
   ],
   "source": [
    "matriz = np.array([[1,2],[3,4]])\n",
    "print(matriz)\n",
    "print(matriz.ndim)#Las matrizes poseen 2 dimensiones, hoja de calculos"
   ]
  },
  {
   "cell_type": "markdown",
   "id": "752eac2d",
   "metadata": {},
   "source": [
    "### Tensor"
   ]
  },
  {
   "cell_type": "code",
   "execution_count": 9,
   "id": "cf5aa799",
   "metadata": {},
   "outputs": [
    {
     "name": "stdout",
     "output_type": "stream",
     "text": [
      "[[[ 1  2  3]\n",
      "  [ 4  5  6]\n",
      "  [ 7  8  9]\n",
      "  [10 11 12]]\n",
      "\n",
      " [[13 13 15]\n",
      "  [16 17 18]\n",
      "  [19 20 21]\n",
      "  [22 23 24]]]\n"
     ]
    },
    {
     "data": {
      "text/plain": [
       "3"
      ]
     },
     "execution_count": 9,
     "metadata": {},
     "output_type": "execute_result"
    }
   ],
   "source": [
    "tensor = np.array([[[1, 2, 3], [4, 5, 6], [7, 8, 9], [10, 11, 12]],[[13, 13, 15], [16, 17, 18], [19, 20, 21], [22, 23, 24]]])\n",
    "print(tensor)\n",
    "tensor.ndim # Los tensores poseen 3 dimensiones, series de tiempo"
   ]
  },
  {
   "cell_type": "markdown",
   "id": "fa5becfc",
   "metadata": {},
   "source": [
    "## Agregar o eliminar dimensiones"
   ]
  },
  {
   "cell_type": "code",
   "execution_count": 11,
   "id": "42789b0b",
   "metadata": {},
   "outputs": [
    {
     "name": "stdout",
     "output_type": "stream",
     "text": [
      "[[[[[[[[[[1 2 3]]]]]]]]]]\n"
     ]
    },
    {
     "data": {
      "text/plain": [
       "10"
      ]
     },
     "execution_count": 11,
     "metadata": {},
     "output_type": "execute_result"
    }
   ],
   "source": [
    "vector = np.array([1,2,3],ndmin = 10)\n",
    "print(vector)\n",
    "vector.ndim"
   ]
  },
  {
   "cell_type": "code",
   "execution_count": 12,
   "id": "4ecf1415",
   "metadata": {},
   "outputs": [
    {
     "name": "stdout",
     "output_type": "stream",
     "text": [
      "[[1 2 3]]\n"
     ]
    },
    {
     "data": {
      "text/plain": [
       "2"
      ]
     },
     "execution_count": 12,
     "metadata": {},
     "output_type": "execute_result"
    }
   ],
   "source": [
    "#Expandimos una dimension a un array\n",
    "expand = np.expand_dims(np.array([1,2,3]),axis = 0) #Axis = 0 -> Filas -----Axis = 1 -> Colmunas\n",
    "print(expand)\n",
    "expand.ndim"
   ]
  },
  {
   "cell_type": "code",
   "execution_count": 13,
   "id": "b35cb9f3",
   "metadata": {},
   "outputs": [
    {
     "name": "stdout",
     "output_type": "stream",
     "text": [
      "[[[[[[[[[[1 2 3]]]]]]]]]] 10\n",
      "[1 2 3] 1\n"
     ]
    }
   ],
   "source": [
    "#Eliminamos dimensiones que no se usan a un array\n",
    "print(vector,vector.ndim)\n",
    "vector2 = np.squeeze(vector) #Comprime las dimensiones que no se estan usando\n",
    "print(vector2,vector2.ndim)"
   ]
  },
  {
   "cell_type": "code",
   "execution_count": null,
   "id": "022e7f06",
   "metadata": {},
   "outputs": [],
   "source": []
  }
 ],
 "metadata": {
  "kernelspec": {
   "display_name": "Python 3",
   "language": "python",
   "name": "python3"
  },
  "language_info": {
   "codemirror_mode": {
    "name": "ipython",
    "version": 3
   },
   "file_extension": ".py",
   "mimetype": "text/x-python",
   "name": "python",
   "nbconvert_exporter": "python",
   "pygments_lexer": "ipython3",
   "version": "3.8.8"
  }
 },
 "nbformat": 4,
 "nbformat_minor": 5
}
